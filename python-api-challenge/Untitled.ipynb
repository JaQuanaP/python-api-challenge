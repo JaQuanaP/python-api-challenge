{
 "cells": [
  {
   "cell_type": "code",
   "execution_count": 1,
   "id": "875c84da-551c-49ea-b178-2f85f0a8b755",
   "metadata": {},
   "outputs": [
    {
     "name": "stdout",
     "output_type": "stream",
     "text": [
      "Requirement already satisfied: citipy in c:\\users\\pharr\\anaconda3\\lib\\site-packages (0.0.6)\n",
      "Requirement already satisfied: requests in c:\\users\\pharr\\anaconda3\\lib\\site-packages (2.32.2)\n",
      "Requirement already satisfied: matplotlib in c:\\users\\pharr\\anaconda3\\lib\\site-packages (3.8.4)\n",
      "Requirement already satisfied: pandas in c:\\users\\pharr\\anaconda3\\lib\\site-packages (2.2.2)\n",
      "Requirement already satisfied: kdtree>=0.12 in c:\\users\\pharr\\anaconda3\\lib\\site-packages (from citipy) (0.16)\n",
      "Requirement already satisfied: charset-normalizer<4,>=2 in c:\\users\\pharr\\anaconda3\\lib\\site-packages (from requests) (2.0.4)\n",
      "Requirement already satisfied: idna<4,>=2.5 in c:\\users\\pharr\\anaconda3\\lib\\site-packages (from requests) (3.7)\n",
      "Requirement already satisfied: urllib3<3,>=1.21.1 in c:\\users\\pharr\\anaconda3\\lib\\site-packages (from requests) (2.2.2)\n",
      "Requirement already satisfied: certifi>=2017.4.17 in c:\\users\\pharr\\anaconda3\\lib\\site-packages (from requests) (2024.7.4)\n",
      "Requirement already satisfied: contourpy>=1.0.1 in c:\\users\\pharr\\anaconda3\\lib\\site-packages (from matplotlib) (1.2.0)\n",
      "Requirement already satisfied: cycler>=0.10 in c:\\users\\pharr\\anaconda3\\lib\\site-packages (from matplotlib) (0.11.0)\n",
      "Requirement already satisfied: fonttools>=4.22.0 in c:\\users\\pharr\\anaconda3\\lib\\site-packages (from matplotlib) (4.51.0)\n",
      "Requirement already satisfied: kiwisolver>=1.3.1 in c:\\users\\pharr\\anaconda3\\lib\\site-packages (from matplotlib) (1.4.4)\n",
      "Requirement already satisfied: numpy>=1.21 in c:\\users\\pharr\\anaconda3\\lib\\site-packages (from matplotlib) (1.26.4)\n",
      "Requirement already satisfied: packaging>=20.0 in c:\\users\\pharr\\anaconda3\\lib\\site-packages (from matplotlib) (23.2)\n",
      "Requirement already satisfied: pillow>=8 in c:\\users\\pharr\\anaconda3\\lib\\site-packages (from matplotlib) (10.3.0)\n",
      "Requirement already satisfied: pyparsing>=2.3.1 in c:\\users\\pharr\\anaconda3\\lib\\site-packages (from matplotlib) (3.0.9)\n",
      "Requirement already satisfied: python-dateutil>=2.7 in c:\\users\\pharr\\anaconda3\\lib\\site-packages (from matplotlib) (2.9.0.post0)\n",
      "Requirement already satisfied: pytz>=2020.1 in c:\\users\\pharr\\anaconda3\\lib\\site-packages (from pandas) (2024.1)\n",
      "Requirement already satisfied: tzdata>=2022.7 in c:\\users\\pharr\\anaconda3\\lib\\site-packages (from pandas) (2023.3)\n",
      "Requirement already satisfied: six>=1.5 in c:\\users\\pharr\\anaconda3\\lib\\site-packages (from python-dateutil>=2.7->matplotlib) (1.16.0)\n",
      "Note: you may need to restart the kernel to use updated packages.\n"
     ]
    }
   ],
   "source": [
    "pip install citipy requests matplotlib pandas\n"
   ]
  },
  {
   "cell_type": "code",
   "execution_count": 2,
   "id": "8e2f1c53-506e-4f12-8b1c-41aebc323cf1",
   "metadata": {},
   "outputs": [],
   "source": [
    "import requests\n",
    "import pandas as pd\n",
    "import matplotlib.pyplot as plt\n",
    "from citipy import citipy\n",
    "import numpy as np\n"
   ]
  },
  {
   "cell_type": "code",
   "execution_count": 3,
   "id": "3746cc63-6610-4516-9fc1-ef89882196f5",
   "metadata": {},
   "outputs": [
    {
     "name": "stdout",
     "output_type": "stream",
     "text": [
      "atlanta\n"
     ]
    }
   ],
   "source": [
    "from citipy import citipy\n",
    "\n",
    "# Coordinates for the location\n",
    "latitude = 33.748  # North Hemisphere\n",
    "longitude = -84.387  # West of Prime Meridian\n",
    "\n",
    "# Find the nearest city\n",
    "nearest_city = citipy.nearest_city(latitude, longitude)\n",
    "\n",
    "# Print the name of the nearest city\n",
    "print(nearest_city.city_name)\n",
    "\n",
    "\n",
    "\n",
    "\n",
    "\n"
   ]
  },
  {
   "cell_type": "code",
   "execution_count": 4,
   "id": "86b2ccdc-6e3f-49f5-a1d4-0dd626e27d99",
   "metadata": {},
   "outputs": [
    {
     "name": "stdout",
     "output_type": "stream",
     "text": [
      "(38.922020011359166, -78.09613438835638)\n",
      "(33.6398808533348, -99.42756070423889)\n",
      "(36.61827840517668, -79.70878655164256)\n",
      "(38.565075453231586, -88.52628562451035)\n",
      "(39.9819936181035, -102.06320166667071)\n",
      "(46.47164783103604, -114.64577916389298)\n",
      "(44.963930046181275, -81.93338766848905)\n",
      "(39.34361135498235, -73.18178903148515)\n",
      "(37.4818531711718, -118.42422766353177)\n",
      "(26.705431839896896, -123.81351262491987)\n"
     ]
    }
   ],
   "source": [
    "# set the range of lats and longs for the United States\n",
    "import numpy as np\n",
    "\n",
    "# Set the number of points\n",
    "num_points = 10  # You can increase this number to generate more points\n",
    "\n",
    "# Generate random latitude values for the U.S. (between 24.396308 and 49.384358 degrees)\n",
    "lats = np.random.uniform(24.396308, 49.384358, num_points)\n",
    "\n",
    "# Generate random longitude values for the U.S. (between -125.0 and -66.93457 degrees)\n",
    "lngs = np.random.uniform(-125.0, -66.93457, num_points)\n",
    "\n",
    "# Combine latitudes and longitudes into tuples\n",
    "coordinates = list(zip(lats, lngs))\n",
    "\n",
    "# Display the coordinates\n",
    "for coord in coordinates:\n",
    "    print(coord)\n"
   ]
  },
  {
   "cell_type": "code",
   "execution_count": 17,
   "id": "1b5d3c53-4b16-4556-bea1-8b1348cd7d30",
   "metadata": {},
   "outputs": [
    {
     "name": "stdout",
     "output_type": "stream",
     "text": [
      "(39.126819913097385, -76.28395583367535)\n",
      "(26.882014269369833, -94.961848516795)\n",
      "(29.417332787863998, -91.99393372438865)\n",
      "(27.715414991776896, -124.89007966607568)\n",
      "(43.9963736853739, -83.08276834091892)\n",
      "(49.2120186363151, -112.19296637673128)\n",
      "(40.88889883814994, -84.93137410324073)\n",
      "(30.708828694208936, -91.4029107636719)\n",
      "(34.583450830707896, -77.23876023987441)\n",
      "(40.0537352196816, -72.31862468454013)\n"
     ]
    }
   ],
   "source": [
    "#use np.random.uniform to generate a series of value in a range\n",
    "import numpy as np\n",
    "\n",
    "# Number of points to generate\n",
    "num_points = 10\n",
    "\n",
    "# Generate random latitude values for the U.S.\n",
    "lats = np.random.uniform(24.396308, 49.384358, num_points)\n",
    "\n",
    "# Generate random longitude values for the U.S.\n",
    "lngs = np.random.uniform(-125.0, -66.93457, num_points)\n",
    "\n",
    "# Combine latitudes and longitudes into tuples\n",
    "coordinates = list(zip(lats, lngs))\n",
    "\n",
    "# Display the coordinates as tuples\n",
    "for coord in coordinates:\n",
    "    print(coord)\n"
   ]
  },
  {
   "cell_type": "code",
   "execution_count": 25,
   "id": "aa320c63-0af1-40ad-9568-c16b4d84e4c6",
   "metadata": {},
   "outputs": [
    {
     "name": "stdout",
     "output_type": "stream",
     "text": [
      "new york city\n",
      "los angeles\n",
      "chicago loop\n"
     ]
    }
   ],
   "source": [
    "#use nearest_city to identify a city near each set of coordinates\n",
    "from citipy import citipy\n",
    "\n",
    "# List of latitude and longitude tuples\n",
    "latlongs = [(40.7128, -74.0060), (34.0522, -118.2437), (41.8781, -87.6298)]  \n",
    "\n",
    "# List to store city names\n",
    "cities = []\n",
    "\n",
    "# Loop through each coordinate and find the nearest city\n",
    "for coord in latlongs:\n",
    "    # Get the city name using citipy\n",
    "    city = citipy.nearest_city(coord[0], coord[1]).city_name\n",
    "    if city not in cities:\n",
    "        cities.append(city)\n",
    "\n",
    "# Print each city name\n",
    "for c in cities:\n",
    "    print(c)\n",
    "\n"
   ]
  },
  {
   "cell_type": "code",
   "execution_count": 1,
   "id": "2b537767-a5da-432b-811b-bc5ca83f4a7a",
   "metadata": {},
   "outputs": [
    {
     "name": "stdout",
     "output_type": "stream",
     "text": [
      "Failed to retrieve data for New York. HTTP Status code: 401\n",
      "Response content: {\"cod\":401, \"message\": \"Invalid API key. Please see https://openweathermap.org/faq#error401 for more info.\"}\n",
      "Failed to retrieve data for Los Angeles. HTTP Status code: 401\n",
      "Response content: {\"cod\":401, \"message\": \"Invalid API key. Please see https://openweathermap.org/faq#error401 for more info.\"}\n",
      "Failed to retrieve data for Chicago. HTTP Status code: 401\n",
      "Response content: {\"cod\":401, \"message\": \"Invalid API key. Please see https://openweathermap.org/faq#error401 for more info.\"}\n",
      "Failed to retrieve data for Houston. HTTP Status code: 401\n",
      "Response content: {\"cod\":401, \"message\": \"Invalid API key. Please see https://openweathermap.org/faq#error401 for more info.\"}\n",
      "Failed to retrieve data for Phoenix. HTTP Status code: 401\n",
      "Response content: {\"cod\":401, \"message\": \"Invalid API key. Please see https://openweathermap.org/faq#error401 for more info.\"}\n",
      "No data was collected.\n"
     ]
    }
   ],
   "source": [
    "import requests\n",
    "import pandas as pd\n",
    "\n",
    "# Your OpenWeatherMap API Key\n",
    "api_key = \"3943c7885934827047f3b7896c06663d\"\n",
    "url = \"http://api.openweathermap.org/data/2.5/weather\"\n",
    "\n",
    "# List of cities\n",
    "cities = [\"New York\", \"Los Angeles\", \"Chicago\", \"Houston\", \"Phoenix\"]\n",
    "\n",
    "# Create empty list to hold the weather data\n",
    "city_data = []\n",
    "\n",
    "# Loop through the cities and get weather data\n",
    "for city in cities:\n",
    "    query_params = {\n",
    "        \"q\": city,\n",
    "        \"appid\": api_key,\n",
    "        \"units\": \"metric\"\n",
    "    }\n",
    "    response = requests.get(url, params=query_params)\n",
    "    \n",
    "    # Check the status code\n",
    "    if response.status_code == 200:\n",
    "        try:\n",
    "            data = response.json()\n",
    "            city_data.append({\n",
    "                \"City\": city,\n",
    "                \"Lat\": data['coord']['lat'],\n",
    "                \"Lng\": data['coord']['lon'],\n",
    "                \"Max Temp\": data['main']['temp_max'],\n",
    "                \"Humidity\": data['main']['humidity'],\n",
    "                \"Cloudiness\": data['clouds']['all'],\n",
    "                \"Wind Speed\": data['wind']['speed'],\n",
    "                \"Country\": data['sys']['country'],\n",
    "                \"Date\": data['dt']\n",
    "            })\n",
    "        except (KeyError, ValueError) as e:\n",
    "            print(f\"Error processing data for city: {city} - {e}\")\n",
    "    else:\n",
    "        print(f\"Failed to retrieve data for {city}. HTTP Status code: {response.status_code}\")\n",
    "        print(f\"Response content: {response.text}\")\n",
    "\n",
    "# Convert the city_data list into a DataFrame\n",
    "if city_data:  # Check if there's any data collected\n",
    "    weather_df = pd.DataFrame(city_data)\n",
    "    print(weather_df.head())\n",
    "else:\n",
    "    print(\"No data was collected.\")\n",
    "\n"
   ]
  },
  {
   "cell_type": "code",
   "execution_count": 7,
   "id": "292d715e-931b-42ff-8602-0b91ff621e73",
   "metadata": {},
   "outputs": [
    {
     "name": "stdout",
     "output_type": "stream",
     "text": [
      "City not found or incomplete data: new york city\n",
      "City not found or incomplete data: los angeles\n",
      "City not found or incomplete data: chicago loop\n",
      "City not found or incomplete data: houston\n",
      "City not found or incomplete data: phoenix\n",
      "Empty DataFrame\n",
      "Columns: []\n",
      "Index: []\n"
     ]
    }
   ],
   "source": [
    "import requests\n",
    "import pandas as pd\n",
    "from citipy import citipy\n",
    "\n",
    "# Your OpenWeatherMap API Key\n",
    "api_key = \"3943c7885934827047f3b7896c06663d\"\n",
    "url = \"http://api.openweathermap.org/data/2.5/weather\"\n",
    "\n",
    "# List of cities with coordinates\n",
    "cities = [(40.7128, -74.0059), (34.0522, -118.2437), (41.8781, -87.6298), (29.7604, -95.3698), (33.4484, -112.0740)]\n",
    "\n",
    "# Create empty list to hold the weather data\n",
    "city_data = []\n",
    "\n",
    "# Loop through the cities and get weather data\n",
    "for lat, lon in cities:\n",
    "    city = citipy.nearest_city(lat, lon)\n",
    "    city_name = city.city_name\n",
    "    country_code = city.country_code\n",
    "\n",
    "    query_params = {\n",
    "        \"q\": f\"{city_name},{country_code}\",\n",
    "        \"appid\": api_key,\n",
    "        \"units\": \"metric\"\n",
    "    }\n",
    "    response = requests.get(url, params=query_params)\n",
    "    data = response.json()\n",
    "\n",
    "    try:\n",
    "        city_data.append({\n",
    "            \"City\": city_name,\n",
    "            \"Lat\": data['coord']['lat'],\n",
    "            \"Lng\": data['coord']['lon'],\n",
    "            \"Max Temp\": data['main']['temp_max'],\n",
    "            \"Humidity\": data['main']['humidity'],\n",
    "            \"Cloudiness\": data['clouds']['all'],\n",
    "            \"Wind Speed\": data['wind']['speed'],\n",
    "            \"Country\": data['sys']['country'],\n",
    "            \"Date\": data['dt']\n",
    "        })\n",
    "    except KeyError:\n",
    "        print(f\"City not found or incomplete data: {city_name}\")\n",
    "\n",
    "# Convert the city_data list into a DataFrame\n",
    "weather_df = pd.DataFrame(city_data)\n",
    "\n",
    "# Display the DataFrame\n",
    "print(weather_df.head())\n"
   ]
  },
  {
   "cell_type": "code",
   "execution_count": 43,
   "id": "e9c48a3c-9b2f-49af-8295-1b87ff34ba06",
   "metadata": {},
   "outputs": [
    {
     "name": "stdout",
     "output_type": "stream",
     "text": [
      "{'cod': 401, 'message': 'Invalid API key. Please see https://openweathermap.org/faq#error401 for more info.'}\n"
     ]
    }
   ],
   "source": [
    "\n"
   ]
  },
  {
   "cell_type": "code",
   "execution_count": null,
   "id": "7b961d01-ea7a-47c4-9e49-e86d692a1faf",
   "metadata": {},
   "outputs": [],
   "source": []
  }
 ],
 "metadata": {
  "kernelspec": {
   "display_name": "Python 3 (ipykernel)",
   "language": "python",
   "name": "python3"
  },
  "language_info": {
   "codemirror_mode": {
    "name": "ipython",
    "version": 3
   },
   "file_extension": ".py",
   "mimetype": "text/x-python",
   "name": "python",
   "nbconvert_exporter": "python",
   "pygments_lexer": "ipython3",
   "version": "3.12.4"
  }
 },
 "nbformat": 4,
 "nbformat_minor": 5
}
